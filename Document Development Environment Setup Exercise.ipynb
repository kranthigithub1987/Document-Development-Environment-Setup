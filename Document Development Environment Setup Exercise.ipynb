{
 "cells": [
  {
   "cell_type": "code",
   "execution_count": 1,
   "id": "652258a6-d88a-4e5d-bf4a-16a2675bc7a1",
   "metadata": {},
   "outputs": [],
   "source": [
    "# Simple Hello World Application\n",
    "\n",
    "def say_hello(name):\n",
    "    \"\"\"\n",
    "    Function to print a personalized greeting.\n",
    "    \n",
    "    Args:\n",
    "    name (str): The name of the person to greet.\n",
    "    \n",
    "    Returns:\n",
    "    str: A greeting message.\n",
    "    \"\"\"\n",
    "    return f\"Hello, {name}! Welcome to our application.\""
   ]
  },
  {
   "cell_type": "code",
   "execution_count": 2,
   "id": "88ec29c8-0bc0-4cbb-bfb9-5cae0c170ce0",
   "metadata": {},
   "outputs": [
    {
     "name": "stdin",
     "output_type": "stream",
     "text": [
      "Enter your name:  Kranthi\n"
     ]
    },
    {
     "name": "stdout",
     "output_type": "stream",
     "text": [
      "Hello, Kranthi! Welcome to our application.\n"
     ]
    }
   ],
   "source": [
    "# Example Usage:\n",
    "user_name = input(\"Enter your name: \")  # Prompt user to input their name\n",
    "greeting = say_hello(user_name)         # Call the function to generate a greeting\n",
    "print(greeting)                          # Print the greeting message"
   ]
  }
 ],
 "metadata": {
  "kernelspec": {
   "display_name": "Python 3 (ipykernel)",
   "language": "python",
   "name": "python3"
  },
  "language_info": {
   "codemirror_mode": {
    "name": "ipython",
    "version": 3
   },
   "file_extension": ".py",
   "mimetype": "text/x-python",
   "name": "python",
   "nbconvert_exporter": "python",
   "pygments_lexer": "ipython3",
   "version": "3.11.7"
  }
 },
 "nbformat": 4,
 "nbformat_minor": 5
}
